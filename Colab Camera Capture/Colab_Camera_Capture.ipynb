{
  "nbformat": 4,
  "nbformat_minor": 0,
  "metadata": {
    "colab": {
      "private_outputs": true,
      "provenance": [],
      "collapsed_sections": []
    },
    "kernelspec": {
      "name": "python3",
      "display_name": "Python 3"
    },
    "language_info": {
      "name": "python"
    }
  },
  "cells": [
    {
      "cell_type": "markdown",
      "source": [
        "## Using a webcam to Capture images, Save images and Display images."
      ],
      "metadata": {
        "id": "Wk34cLuSCgTr"
      }
    },
    {
      "cell_type": "markdown",
      "metadata": {
        "id": "2viqYx97hPMi"
      },
      "source": [
        "## Camera Capture and Helper Functions\n"
      ]
    },
    {
      "cell_type": "code",
      "source": [
        "from IPython.display import display, Javascript, Image\n",
        "from google.colab.patches import cv2_imshow\n",
        "from google.colab.output import eval_js\n",
        "from base64 import b64decode\n",
        "import numpy as np\n",
        "import cv2\n",
        "\n",
        "def js_cam():\n",
        "  js = Javascript('''\n",
        "    async function takePhoto(quality){ // https://developer.mozilla.org/en-US/docs/Web/JavaScript/Reference/Statements/async_function\n",
        "\n",
        "      const div = document.createElement('div');\n",
        "      const capture = document.createElement('button');\n",
        "      capture.textContent = 'Capture';\n",
        "      div.appendChild(capture);\n",
        "\n",
        "      const video = document.createElement('video');\n",
        "      video.style.display = 'block';\n",
        "      const stream = await navigator.mediaDevices.getUserMedia({video: true}); // https://developer.mozilla.org/en-US/docs/Web/API/MediaDevices/getUserMedia\n",
        "      document.body.appendChild(div);\n",
        "      div.appendChild(video);\n",
        "      video.srcObject = stream;\n",
        "      await video.play();  //  https://developer.mozilla.org/en-US/docs/Web/JavaScript/Reference/Operators/await\n",
        "\n",
        "      // Resize the output to fit the video element.\n",
        "      //google.colab.output.setIframeHeight(document.documentElement.scrollHeight, true);\n",
        "\n",
        "      // Wait for Capture to be clicked.\n",
        "      await new Promise((resolve) => capture.onclick = resolve);  //  https://developer.mozilla.org/en-US/docs/Web/JavaScript/Reference/Global_Objects/Promise\n",
        "\n",
        "      const canvas = document.createElement('canvas');\n",
        "      canvas.width = video.videoWidth;\n",
        "      canvas.height = video.videoHeight;\n",
        "      // https://developer.mozilla.org/en-US/docs/Web/API/HTMLCanvasElement/getContext\n",
        "      // https://developer.mozilla.org/en-US/docs/Web/API/CanvasRenderingContext2D/drawImage\n",
        "      canvas.getContext('2d').drawImage(video, 0, 0); // video is name of frame\n",
        "      // https://developer.mozilla.org/en-US/docs/Web/API/MediaStream/getVideoTracks\n",
        "      // https://developer.mozilla.org/en-US/docs/Web/API/MediaStreamTrack/stop\n",
        "      stream.getVideoTracks()[0].stop();\n",
        "      div.remove();  //  https://developer.mozilla.org/en-US/docs/Web/API/Element/remove\n",
        "      return canvas.toDataURL('image/jpeg', quality);  //  https://developer.mozilla.org/en-US/docs/Web/API/HTMLCanvasElement/toDataURL\n",
        "    }\n",
        "    ''')\n",
        "  display(js)  # to display javascript in colab output console\n",
        "\n",
        "def photo_save(filename, quality=1):   # quality 0 to 1\n",
        "  data = eval_js('takePhoto({})'.format(quality))\n",
        "  binary = b64decode(data.split(',')[1])\n",
        "  with open(filename, 'wb') as f:\n",
        "    f.write(binary)\n",
        "  return filename\n",
        "\n",
        "def photo_display(quality=1):    # quality 0 to 1\n",
        "  data = eval_js('takePhoto({})'.format(quality))\n",
        "  imgdata = b64decode(data.split(',')[1])\n",
        "  image = np.frombuffer(imgdata,np.uint8)  # https://numpy.org/doc/stable/reference/generated/numpy.frombuffer\n",
        "  # https://docs.opencv.org/3.4/d4/da8/group__imgcodecs.html#ga288b8b3da0892bd651fce07b3bbd3a56  ==>  https://docs.opencv.org/3.4/d8/d6a/group__imgcodecs__flags.html#ga61d9b0126a3e57d9277ac48327799c80\n",
        "  img = cv2.imdecode(image, flags=1)  # cv::IMREAD_COLOR = 1  ==>  flags=1 for colored image\n",
        "  cv2_imshow(img)"
      ],
      "metadata": {
        "id": "SAbn-TGU_9yi"
      },
      "execution_count": null,
      "outputs": []
    },
    {
      "cell_type": "markdown",
      "source": [
        "## Main Program for Save Photo\n"
      ],
      "metadata": {
        "id": "ztUDxg6zCOfd"
      }
    },
    {
      "cell_type": "code",
      "source": [
        "js_cam()  #  initializing javascript in this main program\n",
        "filename = 'photo1.jpg' # define filename to save\n",
        "photo_save(filename)\n",
        "print('{} Saved'.format(filename))\n",
        "display(Image(filename)) # display the photo that is saved"
      ],
      "metadata": {
        "id": "bAsfV-qFA2Iy"
      },
      "execution_count": null,
      "outputs": []
    },
    {
      "cell_type": "markdown",
      "source": [
        "## Main Program for Display Photo\n"
      ],
      "metadata": {
        "id": "YRApNWLHEW8J"
      }
    },
    {
      "cell_type": "code",
      "source": [
        "js_cam()  #  initializing javascript in this main program\n",
        "photo_display()"
      ],
      "metadata": {
        "id": "S_3dU8XOEW8a"
      },
      "execution_count": null,
      "outputs": []
    },
    {
      "cell_type": "markdown",
      "metadata": {
        "id": "zo9YYDL4SYZr"
      },
      "source": [
        "## Showing CV2 Images\n",
        "\n",
        "The ``cv2.imshow()`` and ``cv.imshow()`` functions from the [opencv-python](https://github.com/skvark/opencv-python) package are incompatible with Jupyter notebook\n",
        "\n",
        "see https://github.com/jupyter/notebook/issues/3935\n",
        "\n",
        "cv2.imshow() is crashing the server\n",
        "\n",
        "If we avoid cv2.waitForKey() and cv2.closeAllWindows(), and keep the windows open, the notebook will continue running\n",
        "\n",
        "As a replacement, you can use the following function :"
      ]
    },
    {
      "cell_type": "code",
      "execution_count": null,
      "metadata": {
        "id": "VdxqF2lkN8vd"
      },
      "outputs": [],
      "source": [
        "import cv2\n",
        "help(cv2.imshow)\n",
        "print(\"##################################################################################################################################################################################\")\n",
        "from google.colab.patches import cv2_imshow\n",
        "help(cv2_imshow)"
      ]
    },
    {
      "cell_type": "markdown",
      "metadata": {
        "id": "F0kLDqqkdGr2"
      },
      "source": [
        "For example, here we download and display a PNG image of the Colab logo :"
      ]
    },
    {
      "cell_type": "code",
      "metadata": {
        "id": "iU_0F2SVW4Yb"
      },
      "source": [
        "!curl -o logo.png https://colab.research.google.com/img/colab_favicon_256px.png\n",
        "import cv2\n",
        "from google.colab.patches import cv2_imshow\n",
        "img = cv2.imread('logo.png', cv2.IMREAD_UNCHANGED)\n",
        "cv2_imshow(img)\n",
        "img = cv2.imread('photo1.jpg', cv2.IMREAD_UNCHANGED)\n",
        "cv2_imshow(img)"
      ],
      "execution_count": null,
      "outputs": []
    }
  ]
}