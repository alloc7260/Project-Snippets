{
  "nbformat": 4,
  "nbformat_minor": 0,
  "metadata": {
    "colab": {
      "provenance": [],
      "collapsed_sections": [
        "1mNY9vzqK1Vn"
      ]
    },
    "kernelspec": {
      "name": "python3",
      "display_name": "Python 3"
    },
    "language_info": {
      "name": "python"
    }
  },
  "cells": [
    {
      "cell_type": "markdown",
      "source": [
        "# Helpers"
      ],
      "metadata": {
        "id": "1mNY9vzqK1Vn"
      }
    },
    {
      "cell_type": "markdown",
      "source": [
        "image filters"
      ],
      "metadata": {
        "id": "qdnEqEC-nw5x"
      }
    },
    {
      "cell_type": "code",
      "source": [
        "from PIL import Image, ImageCms\n",
        "\n",
        "def transprent_to_white(im,i=20):\n",
        "\timg = Image.open(im)\n",
        "\timg = img.convert(\"RGBA\")\n",
        "\tdatas = img.getdata()\n",
        "\tnewData = []\n",
        "\tfor item in datas:\n",
        "\t    if item[3]<=i:\n",
        "\t        newData.append((255, 255, 255, 255))\n",
        "\t    else:\n",
        "\t        newData.append(item)\n",
        "\timg.putdata(newData)\n",
        "\timg.save(im, \"PNG\")\n",
        "\n",
        "def transprent_to_black(im,i=20):\n",
        "\timg = Image.open(im)\n",
        "\timg = img.convert(\"RGBA\")\n",
        "\tdatas = img.getdata()\n",
        "\tnewData = []\n",
        "\tfor item in datas:\n",
        "\t    if item[3]<=i:\n",
        "\t        newData.append((0, 0, 0, 255))\n",
        "\t    else:\n",
        "\t        newData.append(item)\n",
        "\timg.putdata(newData)\n",
        "\timg.save(im, \"PNG\")\n",
        "\n",
        "def black_to_transprent(im,i=50):\n",
        "\timg = Image.open(im)\n",
        "\timg = img.convert(\"RGBA\")\n",
        "\tdatas = img.getdata()\n",
        "\tnewData = []\n",
        "\tfor item in datas:\n",
        "\t    if item[0] <= i and item[1] <= i and item[2] <= i:\n",
        "\t        newData.append((0, 0, 0, 0)) # for lower image size\n",
        "\t    else:\n",
        "\t        newData.append(item)\n",
        "\timg.putdata(newData)\n",
        "\timg.save(im, \"PNG\")\n",
        "\n",
        "def white_to_transprent(im,i=150):\n",
        "\timg = Image.open(im)\n",
        "\timg = img.convert(\"RGBA\")\n",
        "\tdatas = img.getdata()\n",
        "\tnewData = []\n",
        "\tfor item in datas:\n",
        "\t    if item[0] >= i and item[1] >= i and item[2] >= i:\n",
        "\t        newData.append((0, 0, 0, 0))\n",
        "\t    else:\n",
        "\t        newData.append(item)\n",
        "\timg.putdata(newData)\n",
        "\timg.save(im, \"PNG\")\n",
        "\n",
        "def black_to_white(im,i=50):\n",
        "\timg = Image.open(im)\n",
        "\timg = img.convert(\"RGBA\")\n",
        "\tdatas = img.getdata()\n",
        "\tnewData = []\n",
        "\tfor item in datas:\n",
        "\t    if item[0] <= i and item[1] <= i and item[2] <= i:\n",
        "\t        newData.append((255, 255, 255, 255))\n",
        "\t    else:\n",
        "\t        newData.append(item)\n",
        "\timg.putdata(newData)\n",
        "\timg.save(im, \"PNG\")\n",
        "\n",
        "def white_to_black(im,i=220):\n",
        "\timg = Image.open(im)\n",
        "\timg = img.convert(\"RGBA\")\n",
        "\tdatas = img.getdata()\n",
        "\tnewData = []\n",
        "\tfor item in datas:\n",
        "\t    if item[0] >= i and item[1] >= i and item[2] >= i:\n",
        "\t        newData.append((0, 0, 0, 255))\n",
        "\t    else:\n",
        "\t        newData.append(item)\n",
        "\timg.putdata(newData)\n",
        "\timg.save(im, \"PNG\")\n",
        "\n",
        "def black_to_black(im,i=50):\n",
        "\timg = Image.open(im)\n",
        "\timg = img.convert(\"RGBA\")\n",
        "\tdatas = img.getdata()\n",
        "\tnewData = []\n",
        "\tfor item in datas:\n",
        "\t    if item[0] <= i and item[1] <= i and item[2] <= i:\n",
        "\t        newData.append((0, 0, 0, 255))\n",
        "\t    else:\n",
        "\t        newData.append(item)\n",
        "\timg.putdata(newData)\n",
        "\timg.save(im, \"PNG\")\n",
        "\n",
        "def white_to_white(im,i=220):\n",
        "\timg = Image.open(im)\n",
        "\timg = img.convert(\"RGBA\")\n",
        "\tdatas = img.getdata()\n",
        "\tnewData = []\n",
        "\tfor item in datas:\n",
        "\t    if item[0] >= i and item[1] >= i and item[2] >= i:\n",
        "\t        newData.append((255, 255, 255, 255))\n",
        "\t    else:\n",
        "\t        newData.append(item)\n",
        "\timg.putdata(newData)\n",
        "\timg.save(im, \"PNG\")"
      ],
      "metadata": {
        "id": "SJERr31KnxgA"
      },
      "execution_count": null,
      "outputs": []
    },
    {
      "cell_type": "markdown",
      "source": [
        "image components"
      ],
      "metadata": {
        "id": "lQdzorrsVs98"
      }
    },
    {
      "cell_type": "code",
      "source": [
        "from PIL import Image, ImageCms\n",
        "\n",
        "im = Image.open('new.png')\n",
        "(red, blue, green, A1) = im.split()\n",
        "red.save('red.png')\n",
        "green.save('green.png')\n",
        "blue.save('blue.png')\n",
        "A1.save('A1.png')\n",
        "\n",
        "hsv = im.convert('HSV')\n",
        "(hue, sat, val) = hsv.split()\n",
        "hue.save('hue.png')\n",
        "sat.save('sat.png')\n",
        "val.save('val.png')\n",
        "\n",
        "cmyk = im.convert('CMYK')\n",
        "(cyan, magenta, yellow , A2) = im.split()\n",
        "cyan.save('cyan.png')\n",
        "magenta.save('magenta.png')\n",
        "yellow.save('yellow.png')\n",
        "A2.save('A2.png')\n",
        "\n",
        "# Convert to L*a*b colorspace is more complex:\n",
        "rgb = ImageCms.createProfile(colorSpace='sRGB')\n",
        "lab = ImageCms.createProfile(colorSpace='LAB')\n",
        "transform = ImageCms.buildTransform(inputProfile=rgb, outputProfile=lab, inMode='RGB', outMode='LAB')\n",
        "lab_im = ImageCms.applyTransform(im=im, transform=transform)\n",
        "l, a, b = lab_im.split()\n",
        "l.save(\"l.png\")\n",
        "a.save('a.png')\n",
        "b.save('b.png')"
      ],
      "metadata": {
        "id": "zPp1_DMjjv6b"
      },
      "execution_count": null,
      "outputs": []
    },
    {
      "cell_type": "markdown",
      "source": [
        "# Solvers"
      ],
      "metadata": {
        "id": "KNFAp0fcK7cZ"
      }
    },
    {
      "cell_type": "markdown",
      "source": [
        "install pytesseract"
      ],
      "metadata": {
        "id": "fA6XnGMULRO6"
      }
    },
    {
      "cell_type": "code",
      "source": [
        "%%capture\n",
        "!sudo apt install tesseract-ocr\n",
        "!pip install pytesseract"
      ],
      "metadata": {
        "id": "jjeKD0ARLaH5"
      },
      "execution_count": 2,
      "outputs": []
    },
    {
      "cell_type": "markdown",
      "source": [
        "install right Pillow"
      ],
      "metadata": {
        "id": "aNNji37wOOHq"
      }
    },
    {
      "cell_type": "code",
      "source": [
        "%%capture\n",
        "!pip install Pillow==9.1.0"
      ],
      "metadata": {
        "id": "vh385EzKNiNH"
      },
      "execution_count": null,
      "outputs": []
    },
    {
      "cell_type": "markdown",
      "source": [
        "image cap solver"
      ],
      "metadata": {
        "id": "1FW2kyWLVzla"
      }
    },
    {
      "cell_type": "code",
      "source": [
        "import cv2\n",
        "from PIL import Image\n",
        "from IPython.display import display\n",
        "\n",
        "def create_mask(image, maskfname = \"mask.png\"):\n",
        "\timageincv2 = cv2.imread(image) # open image in cv2\n",
        "\tgray = cv2.cvtColor(imageincv2, cv2.COLOR_BGR2GRAY) # convert it to grayscale\n",
        "\tthresh = cv2.threshold(gray, 0, 255, cv2.THRESH_BINARY_INV + cv2.THRESH_OTSU)[1] # pick only thresholded pixels (horizontal line)\n",
        "\thorizontal_kernel = cv2.getStructuringElement(cv2.MORPH_RECT, (25, 1)) # create new structuring element (black)\n",
        "\tmaskincv2 = cv2.morphologyEx(thresh, cv2.MORPH_OPEN,horizontal_kernel, iterations=2) # create mask with thresolded lines and black background\n",
        "\t#maskincv2 = cv2.bitwise_not(maskincv2) # converts white to black and black to white (0 to 255 and 255 to 0)(rgb values)\n",
        "\tcv2.imwrite(maskfname, maskincv2) # save mask\n",
        "\treturn maskfname\n",
        "\n",
        "def transparent_mask(maskfname):\n",
        "\tmaskinpillow = Image.open(maskfname) # open mask in pillow\n",
        "\trgbaconvertedmask = maskinpillow.convert(\"RGBA\") # convert it to rgba\n",
        "\tdatas = rgbaconvertedmask.getdata() # get datas list object for processing\n",
        "\tnewData = [] # create new empty data list\n",
        "\tfor item in datas: # for every pixel\n",
        "\t    if item[0] == 0 and item[1] == 0 and item[2] == 0: # if r,g&b is 0 that is black(0,0,0) pixel\n",
        "\t        newData.append((0,0,0,0)) # then make new pixel transparent by setting opacity(A) to 0 (no mater what other values are) \n",
        "\t    else:\n",
        "\t        newData.append(item) # otherwise append original black pixel\n",
        "\trgbaconvertedmask.putdata(newData) # put new data list back to mask\n",
        "\treturn rgbaconvertedmask \n",
        "\n",
        "def apply_mask(image, rgbaconvertedmask, maskedimagefname = \"maskedimage.png\"):\n",
        "\tbackground = Image.open(image) # open original image in pillow\n",
        "\tdisplay(background)\n",
        "\tbackgroundconverted = background.convert(\"RGBA\") # convert it to rgba\n",
        "\tbackgroundconverted.paste(rgbaconvertedmask,mask=rgbaconvertedmask) # paste mask on converted background\n",
        "\tbackgroundconverted.save(maskedimagefname,\"PNG\") # save masked image\n",
        "\treturn maskedimagefname\n",
        "\n",
        "from PIL import Image, ImageCms, ImageFilter\n",
        "import pytesseract\n",
        "\n",
        "def get_text(im):\n",
        "\tim = Image.open(im) # open masked image in pillow from function argument(parameter)\n",
        "\tcroppedim = im.crop((5,5,115,35)) # crop image\n",
        "\trgb = ImageCms.createProfile(colorSpace='sRGB') # create rgb profile\n",
        "\tlab = ImageCms.createProfile(colorSpace='LAB') # create lab profile\n",
        "\ttransform = ImageCms.buildTransform(inputProfile=rgb, outputProfile=lab, inMode='RGB', outMode='LAB') # create rgb to lab transformer\n",
        "\tlab_im = ImageCms.applyTransform(im=croppedim, transform=transform) # transform cropped image by applying above transformer\n",
        "\tl, a, b = lab_im.split() # split l,a&b component\n",
        "\tworkingimage = l # selecting l component\n",
        "\tfilteredimage = workingimage.filter(ImageFilter.MinFilter(3)) # filter image\n",
        "\tresult = pytesseract.image_to_string(filteredimage) # predict text on filteredimage using pytesseract ocr\n",
        "\tprint(result)\n",
        "\t# l=[]\n",
        "\t# l.append(result)\n",
        "\t# l.append(result.strip())\n",
        "\t# print(l)\n",
        "\t# print(l[0])\n",
        "\t# print(l[1])\n",
        "\n",
        "path_or_url_to_image = \"CAPTCHA.jpg\"\n",
        "\n",
        "get_text(apply_mask(path_or_url_to_image, transparent_mask(create_mask(path_or_url_to_image))))"
      ],
      "metadata": {
        "id": "OwWiMfReOOi4",
        "colab": {
          "base_uri": "https://localhost:8080/",
          "height": 93
        },
        "outputId": "665064e6-9b0d-4ffb-f0d7-cfa29008acdb"
      },
      "execution_count": 4,
      "outputs": [
        {
          "output_type": "display_data",
          "data": {
            "text/plain": [
              "<PIL.JpegImagePlugin.JpegImageFile image mode=RGB size=120x40>"
            ],
            "image/png": "[encoded data removed]"
          },
          "metadata": {}
        },
        {
          "output_type": "stream",
          "name": "stdout",
          "text": [
            "237fd0\n",
            "\f\n"
          ]
        }
      ]
    },
    {
      "cell_type": "markdown",
      "source": [
        "web cap solver (get image + image cap solver)"
      ],
      "metadata": {
        "id": "nn_7Eso8V0q6"
      }
    },
    {
      "cell_type": "code",
      "source": [
        "from bs4 import BeautifulSoup\n",
        "import requests\n",
        "import shutil\n",
        "\n",
        "website_url = \"https://www.students.gtu.ac.in/\"\n",
        "captcha_url = \"https://www.students.gtu.ac.in/Handler.ashx\"\n",
        "\n",
        "r = requests.get(captcha_url, stream=True)\n",
        "if r.status_code == 200:\n",
        "   with open(\"CAPTCHA.jpg\", 'wb') as f: \n",
        "      r.raw.decode_content = True\n",
        "      shutil.copyfileobj(r.raw, f)"
      ],
      "metadata": {
        "id": "AH2OGXesxTAY"
      },
      "execution_count": 7,
      "outputs": []
    },
    {
      "cell_type": "code",
      "source": [
        "import cv2\n",
        "from PIL import Image\n",
        "from IPython.display import display\n",
        "\n",
        "def create_mask(image, maskfname = \"mask.png\"):\n",
        "\timageincv2 = cv2.imread(image) # open image in cv2\n",
        "\tgray = cv2.cvtColor(imageincv2, cv2.COLOR_BGR2GRAY) # convert it to grayscale\n",
        "\tthresh = cv2.threshold(gray, 0, 255, cv2.THRESH_BINARY_INV + cv2.THRESH_OTSU)[1] # pick only thresholded pixels (horizontal line)\n",
        "\thorizontal_kernel = cv2.getStructuringElement(cv2.MORPH_RECT, (25, 1)) # create new structuring element (black)\n",
        "\tmaskincv2 = cv2.morphologyEx(thresh, cv2.MORPH_OPEN,horizontal_kernel, iterations=2) # create mask with thresolded lines and black background\n",
        "\t#maskincv2 = cv2.bitwise_not(maskincv2) # converts white to black and black to white (0 to 255 and 255 to 0)(rgb values)\n",
        "\tcv2.imwrite(maskfname, maskincv2) # save mask\n",
        "\treturn maskfname\n",
        "\n",
        "def transparent_mask(maskfname):\n",
        "\tmaskinpillow = Image.open(maskfname) # open mask in pillow\n",
        "\trgbaconvertedmask = maskinpillow.convert(\"RGBA\") # convert it to rgba\n",
        "\tdatas = rgbaconvertedmask.getdata() # get datas list object for processing\n",
        "\tnewData = [] # create new empty data list\n",
        "\tfor item in datas: # for every pixel\n",
        "\t    if item[0] == 0 and item[1] == 0 and item[2] == 0: # if r,g&b is 0 that is black(0,0,0) pixel\n",
        "\t        newData.append((0,0,0,0)) # then make new pixel transparent by setting opacity(A) to 0 (no mater what other values are) \n",
        "\t    else:\n",
        "\t        newData.append(item) # otherwise append original black pixel\n",
        "\trgbaconvertedmask.putdata(newData) # put new data list back to mask\n",
        "\treturn rgbaconvertedmask \n",
        "\n",
        "def apply_mask(image, rgbaconvertedmask, maskedimagefname = \"maskedimage.png\"):\n",
        "\tbackground = Image.open(image) # open original image in pillow\n",
        "\tdisplay(background)\n",
        "\tbackgroundconverted = background.convert(\"RGBA\") # convert it to rgba\n",
        "\tbackgroundconverted.paste(rgbaconvertedmask,mask=rgbaconvertedmask) # paste mask on converted background\n",
        "\tbackgroundconverted.save(maskedimagefname,\"PNG\") # save masked image\n",
        "\treturn maskedimagefname\n",
        "\n",
        "from PIL import Image, ImageCms, ImageFilter\n",
        "import pytesseract\n",
        "\n",
        "def get_text(im):\n",
        "\tim = Image.open(im) # open masked image in pillow from function argument(parameter)\n",
        "\tcroppedim = im.crop((5,5,115,35)) # crop image\n",
        "\trgb = ImageCms.createProfile(colorSpace='sRGB') # create rgb profile\n",
        "\tlab = ImageCms.createProfile(colorSpace='LAB') # create lab profile\n",
        "\ttransform = ImageCms.buildTransform(inputProfile=rgb, outputProfile=lab, inMode='RGB', outMode='LAB') # create rgb to lab transformer\n",
        "\tlab_im = ImageCms.applyTransform(im=croppedim, transform=transform) # transform cropped image by applying above transformer\n",
        "\tl, a, b = lab_im.split() # split l,a&b component\n",
        "\tworkingimage = l # selecting l component\n",
        "\tfilteredimage = workingimage.filter(ImageFilter.MinFilter(3)) # filter image\n",
        "\tresult = pytesseract.image_to_string(filteredimage) # predict text on filteredimage using pytesseract ocr\n",
        "\tprint(result)\n",
        "\t# l=[]\n",
        "\t# l.append(result)\n",
        "\t# l.append(result.strip())\n",
        "\t# print(l)\n",
        "\t# print(l[0])\n",
        "\t# print(l[1])\n",
        "\n",
        "path_or_url_to_image = \"CAPTCHA.jpg\"\n",
        "\n",
        "get_text(apply_mask(path_or_url_to_image, transparent_mask(create_mask(path_or_url_to_image))))"
      ],
      "metadata": {
        "colab": {
          "base_uri": "https://localhost:8080/",
          "height": 93
        },
        "id": "w6NSrk_2LGok",
        "outputId": "1bc6825a-199c-41fd-cede-cac7bf027610"
      },
      "execution_count": 8,
      "outputs": [
        {
          "output_type": "display_data",
          "data": {
            "text/plain": [
              "<PIL.JpegImagePlugin.JpegImageFile image mode=RGB size=120x40>"
            ],
            "image/png": "[encoded data removed]"
          },
          "metadata": {}
        },
        {
          "output_type": "stream",
          "name": "stdout",
          "text": [
            "abe85\n",
            "\f\n"
          ]
        }
      ]
    }
  ]
}