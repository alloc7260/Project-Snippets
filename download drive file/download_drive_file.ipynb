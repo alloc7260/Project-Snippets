{
  "nbformat": 4,
  "nbformat_minor": 0,
  "metadata": {
    "colab": {
      "provenance": []
    },
    "kernelspec": {
      "name": "python3",
      "display_name": "Python 3"
    },
    "language_info": {
      "name": "python"
    },
    "gpuClass": "standard"
  },
  "cells": [
    {
      "cell_type": "markdown",
      "source": [
        "#### if this is link\n",
        "#### https://drive.google.com/file/d/12wX9eZiylne592WSr1GuS62OgKg_1EKU/view?usp=share_link\n",
        "#### then this is id\n",
        "#### 12wX9eZiylne592WSr1GuS62OgKg_1EKU"
      ],
      "metadata": {
        "id": "U-wMkoA3fgXy"
      }
    },
    {
      "cell_type": "markdown",
      "source": [
        "#### HTML PARSERS\n",
        "1) BeautifulSoup \n",
        "- html.parser\n",
        "- xml\n",
        "- lxml\n",
        "- html5lib\n",
        "\n",
        "2) lxml\n",
        "\n",
        "3) html5lib\n",
        "\n",
        "4) PyQuery"
      ],
      "metadata": {
        "id": "BX9BCjs0gHC3"
      }
    },
    {
      "cell_type": "markdown",
      "source": [
        "### Single file"
      ],
      "metadata": {
        "id": "CfqhglDtfoag"
      }
    },
    {
      "cell_type": "code",
      "source": [
        "import subprocess\n",
        "import re\n",
        "import requests\n",
        "from bs4 import BeautifulSoup as bs\n",
        "\n",
        "link = \"https://drive.google.com/file/d/1Hw8Z3uJBrS-MTjzEgOmmV-1uNC7OY__W/view?usp=share_link\"\n",
        "# link = \"https://drive.google.com/file/d/1ZW--Hko19T52dNXHSgL_fSowYkus-lEc/view?usp=share_link\"\n",
        "# link = \"https://drive.google.com/file/d/12wX9eZiylne592WSr1GuS62OgKg_1EKU/view?usp=share_link\"\n",
        "# link = \"https://drive.google.com/file/d/1LePo57dJcgzoK4uiI_48S01Etck7w_5f/view?usp=share_link\"\n",
        "\n",
        "# First parameter is the ID, second parameter is the filename\n",
        "FILEID = re.search(r\"/d/([a-zA-Z0-9_-]+)\", link).group(1)\n",
        "FILENAME = bs(requests.get(link).text, 'html.parser').title.text[:-15]\n",
        "print(FILENAME)\n",
        "\n",
        "\n",
        "# This script downloads the drive file with the given ID and saves it with the given name\n",
        "COOKIE_FILE = \"cookies.txt\"\n",
        "\n",
        "# First get the confirmation prompt because the file is too big\n",
        "cmd1 = f'curl -s -c {COOKIE_FILE} \"https://docs.google.com/uc?export=download&id={FILEID}\" | sed -rn \\'s/.*confirm=([0-9A-Za-z_]+).*/\\\\1\\\\n/p\\''\n",
        "confirm = subprocess.check_output(cmd1, shell=True).decode().strip()\n",
        "\n",
        "# Then download the file using the confirmation prompt\n",
        "cmd2 = f'curl -s -L -b {COOKIE_FILE} \"https://docs.google.com/uc?export=download&confirm={confirm}&id={FILEID}\" -o \"{FILENAME}\"'\n",
        "subprocess.run(cmd2, shell=True)\n",
        "\n",
        "# Finally, delete the cookie file\n",
        "subprocess.run(f'rm {COOKIE_FILE}', shell=True);"
      ],
      "metadata": {
        "colab": {
          "base_uri": "https://localhost:8080/"
        },
        "outputId": "4b00679e-907f-451e-fe2f-bd882ec49202",
        "id": "Yh9AP-CXhMRZ"
      },
      "execution_count": null,
      "outputs": [
        {
          "output_type": "stream",
          "name": "stdout",
          "text": [
            "Dock Icons & Backup_ Mountain Clouds.zip\n"
          ]
        }
      ]
    },
    {
      "cell_type": "markdown",
      "source": [
        "### multi file"
      ],
      "metadata": {
        "id": "ahH3S0EffsVe"
      }
    },
    {
      "cell_type": "code",
      "source": [
        "import os\n",
        "import re\n",
        "import requests\n",
        "from lxml import html\n",
        "\n",
        "def down(link):\n",
        "    # First parameter is the ID, second parameter is the filename\n",
        "    FILEID = re.search(r\"/d/([a-zA-Z0-9_-]+)\", link).group(1)\n",
        "    FILENAME = html.fromstring(requests.get(link).content).find('.//title').text[:-15]\n",
        "    print(FILENAME)\n",
        "\n",
        "    # This script downloads the drive file with the given ID and saves it with the given name\n",
        "    COOKIE_FILE = \"cookies.txt\"\n",
        "\n",
        "    # First get the confirmation prompt because the file is too big\n",
        "    cmd1 = f'curl -s -c {COOKIE_FILE} \"https://docs.google.com/uc?export=download&id={FILEID}\"'\n",
        "    output = os.popen(cmd1).read()\n",
        "    match = re.search('confirm=([0-9A-Za-z_]+)', output)\n",
        "    if match:\n",
        "        confirm = match.group(1)\n",
        "    else:\n",
        "        confirm = ''\n",
        "\n",
        "    # Then download the file using the confirmation prompt\n",
        "    cmd2 = f'curl -s -L -b {COOKIE_FILE} \"https://docs.google.com/uc?export=download&confirm={confirm}&id={FILEID}\" -o \"{FILENAME}\"'\n",
        "    os.system(cmd2)\n",
        "\n",
        "    # Finally, delete the cookie file\n",
        "    os.remove(COOKIE_FILE)\n",
        "\n",
        "links = [\"https://drive.google.com/file/d/1Hw8Z3uJBrS-MTjzEgOmmV-1uNC7OY__W/view?usp=share_link\", \n",
        "         \"https://drive.google.com/file/d/1ZW--Hko19T52dNXHSgL_fSowYkus-lEc/view?usp=share_link\", \n",
        "         \"https://drive.google.com/file/d/12wX9eZiylne592WSr1GuS62OgKg_1EKU/view?usp=share_link\", \n",
        "         \"https://drive.google.com/file/d/1LePo57dJcgzoK4uiI_48S01Etck7w_5f/view?usp=share_link\",\n",
        "        ]\n",
        "    \n",
        "for link in links:\n",
        "    down(link)"
      ],
      "metadata": {
        "colab": {
          "base_uri": "https://localhost:8080/"
        },
        "id": "S_ENdmAedQb3",
        "outputId": "6ab82620-420e-4a36-a71c-5f8678fa4360"
      },
      "execution_count": null,
      "outputs": [
        {
          "output_type": "stream",
          "name": "stdout",
          "text": [
            "Dock Icons & Backup_ Mountain Clouds.zip\n",
            "Rainy Days_Necessary Files.zip\n",
            "tweets_remaining_09042020_16072020.csv\n",
            "supplier-data.tar.gz\n"
          ]
        }
      ]
    },
    {
      "cell_type": "code",
      "source": [
        "!rm -rf *"
      ],
      "metadata": {
        "id": "XRVbXl2BwELx"
      },
      "execution_count": null,
      "outputs": []
    }
  ]
}